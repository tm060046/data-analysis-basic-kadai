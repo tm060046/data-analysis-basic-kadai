{
  "nbformat": 4,
  "nbformat_minor": 0,
  "metadata": {
    "colab": {
      "provenance": []
    },
    "kernelspec": {
      "name": "python3",
      "display_name": "Python 3"
    },
    "language_info": {
      "name": "python"
    }
  },
  "cells": [
    {
      "cell_type": "code",
      "execution_count": 1,
      "metadata": {
        "colab": {
          "base_uri": "https://localhost:8080/"
        },
        "id": "9x-pfa28rviH",
        "outputId": "d0e52395-c7c0-4f7a-edaa-91e2674a5539"
      },
      "outputs": [
        {
          "output_type": "execute_result",
          "data": {
            "text/plain": [
              "47"
            ]
          },
          "metadata": {},
          "execution_count": 1
        }
      ],
      "source": [
        "#numpyの読み込み\n",
        "import numpy as np\n",
        "\n",
        "a = np.array([[0, 1], [2, 3], [4, 5]])\n",
        "b = np.array([[0, 1, 2, 3], [4, 5, 6, 7]])\n",
        "\n",
        "#行列の掛け算\n",
        "culiculation_result_array = np.dot(a, b)\n",
        "\n",
        "#計算結果から最大を求める\n",
        "culiculation_result_array.max()"
      ]
    }
  ]
}
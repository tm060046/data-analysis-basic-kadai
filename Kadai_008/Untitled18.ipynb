{
  "nbformat": 4,
  "nbformat_minor": 0,
  "metadata": {
    "colab": {
      "provenance": []
    },
    "kernelspec": {
      "name": "python3",
      "display_name": "Python 3"
    },
    "language_info": {
      "name": "python"
    }
  },
  "cells": [
    {
      "cell_type": "code",
      "execution_count": 14,
      "metadata": {
        "colab": {
          "base_uri": "https://localhost:8080/"
        },
        "id": "tP1IO1_D-71A",
        "outputId": "a45d97e3-075e-413c-fc5a-41b44b0edb98"
      },
      "outputs": [
        {
          "output_type": "execute_result",
          "data": {
            "text/plain": [
              "0.9629629629629629"
            ]
          },
          "metadata": {},
          "execution_count": 14
        }
      ],
      "source": [
        "#サンプルデータを取得\n",
        "from sklearn.datasets import load_wine\n",
        "#サンプルデータをdatasetの変数へ代入\n",
        "dataset = load_wine()\n",
        "\n",
        "#データを見やすくするために、データフレームを生成\n",
        "import pandas as pd\n",
        "df = pd.DataFrame(data=dataset.data, columns=dataset.feature_names)\n",
        "#カテゴリを追加\n",
        "df['category'] = dataset.target\n",
        "\n",
        "#サンプルデータの分割\n",
        "X = dataset.data\n",
        "y = dataset.target\n",
        "\n",
        "#学習データとテストデータに分割するモジュール関数を実行\n",
        "#テストデータを7：3に分割\n",
        "from sklearn.model_selection import train_test_split\n",
        "train_test_split(X, y, test_size=0.3, random_state=5)\n",
        "\n",
        "#4つの要素に変数を代入\n",
        "X_train, X_test, y_train, y_test = train_test_split(X, y, test_size=0.3, random_state=5)\n",
        "\n",
        "#ランダムフォレストの予測モデルを作成\n",
        "from sklearn.ensemble import RandomForestClassifier\n",
        "model = RandomForestClassifier(random_state=3)\n",
        "\n",
        "#fitメソッドを実行し学習\n",
        "model.fit(X_train, y_train)\n",
        "\n",
        "#テストデータからワインの種別を予測\n",
        "y_pred = model.predict(X_test)\n",
        "\n",
        "#正解率を出す関数をインポート\n",
        "from sklearn.metrics import accuracy_score\n",
        "\n",
        "#予測モデルの評価\n",
        "accuracy_score(y_test, y_pred)\n",
        "\n"
      ]
    }
  ]
}